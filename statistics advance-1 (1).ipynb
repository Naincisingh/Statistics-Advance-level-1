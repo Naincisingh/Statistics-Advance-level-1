{
 "cells": [
  {
   "cell_type": "markdown",
   "id": "fc62de7e-0e0f-44d1-a562-dd7f552e362e",
   "metadata": {},
   "source": [
    "\"\"\"QTS.1\"\"\"\n",
    "probablity density function is a function which denotes the distribution of continuous\n",
    "random variable types of data."
   ]
  },
  {
   "cell_type": "markdown",
   "id": "25681963-c6ef-4997-9175-a9a29fc038d2",
   "metadata": {},
   "source": [
    "\"\"\"QTS.2\"\"\"\n",
    "there are total 6 types of probablity distribution function :-\n",
    "\n",
    "1.normal or gaussian distribution\n",
    "2.bernaulli distribution\n",
    "3.uniform distribution\n",
    "4.poisson distribution\n",
    "5.log normal distribution\n",
    "6.binomial distribution"
   ]
  },
  {
   "cell_type": "code",
   "execution_count": 5,
   "id": "2ba78989-5280-4637-bb85-dd2df5837be8",
   "metadata": {},
   "outputs": [
    {
     "name": "stdout",
     "output_type": "stream",
     "text": [
      "PDF at point 1.5: 0.12951759566589174\n"
     ]
    }
   ],
   "source": [
    "\"\"\"QTS.3\"\"\"\n",
    "import math\n",
    "\n",
    "def normal_pdf(x, mean, std_dev):\n",
    "    \"\"\"\n",
    "    Calculate the probability density function (PDF) of a normal distribution at a given point.\n",
    "    \n",
    "    Args:\n",
    "    x (float): The point at which to evaluate the PDF.\n",
    "    mean (float): Mean of the normal distribution.\n",
    "    std_dev (float): Standard deviation of the normal distribution.\n",
    "    \n",
    "    Returns:\n",
    "    float: The PDF value at the given point.\n",
    "    \"\"\"\n",
    "    coefficient = 1 / (std_dev * math.sqrt(2 * math.pi))\n",
    "    exponent = -((x - mean) ** 2) / (2 * std_dev ** 2)\n",
    "    pdf_value = coefficient * math.exp(exponent)\n",
    "    return pdf_value\n",
    "\n",
    "# Example usage\n",
    "mean = 0\n",
    "std_dev = 1\n",
    "point = 1.5\n",
    "pdf_at_point = normal_pdf(point, mean, std_dev)\n",
    "print(f\"PDF at point {point}: {pdf_at_point}\")\n"
   ]
  },
  {
   "cell_type": "markdown",
   "id": "f6aa2ce9-08ef-4042-95d5-37943f1bb8eb",
   "metadata": {},
   "source": [
    "\"\"\"QTS.4\"\"\"\n",
    "The binomial distribution is a discrete probability distribution that describes the number\n",
    "of successes in a fixed number of independent Bernoulli trials, where each trial has a \n",
    "constant probability of success. The properties of the binomial distribution include:\n",
    "\n",
    "1. **Fixed Number of Trials**: The distribution is defined over a fixed number of trials, denoted as \"n.\"\n",
    "\n",
    "2. **Independent Trials**: Each trial is assumed to be independent of the others, meaning\n",
    "that the outcome of one trial does not affect the outcome of another.\n",
    "\n",
    "3. **Two Possible Outcomes**: Each trial has two possible outcomes: success (usually denoted as \"S\")\n",
    "or failure (usually denoted as \"F\").\n",
    "\n",
    "4. **Constant Probability of Success**: The probability of success, denoted as \"p,\" remains constant\n",
    "from trial to trial.\n",
    "\n",
    "5. **Discrete Nature**: The binomial distribution is discrete, meaning that the random variable \n",
    "representing the number of successes can only take on integer values.\n",
    "\n",
    "6. **Probability Mass Function**: The probability of observing \"k\" successes in \"n\" trials is given\n",
    "by the binomial probability mass function: P(X = k) = C(n, k) * p^k * (1 - p)^(n - k), where C(n, k)\n",
    "is the binomial coefficient.\n",
    "\n",
    "Two examples of events where the binomial distribution can be applied are:\n",
    "\n",
    "1. **Coin Flipping**: Consider a scenario where you flip a biased coin (with a known probability of\n",
    "landing heads) 10 times and want to know the probability of getting exactly 3 heads. Each flip of the\n",
    "coin is an independent trial, and the outcome (heads or tails) is a binary success/failure event.\n",
    "\n",
    "2. **Quality Control**: Imagine a factory producing light bulbs, where each bulb has a certain \n",
    "probability of being defective. If you randomly select 20 light bulbs from the production line \n",
    "and want to find the probability that exactly 5 of them are defective, this situation can be \n",
    "modeled using a binomial distribution. Each bulb being defective or not is a binary outcome, \n",
    "and each bulb's quality is assumed to be independent of others.\n",
    "\n",
    "In both examples, the binomial distribution helps you calculate the probabilities of different \n",
    "numbers of successes (e.g., getting a certain number of heads or defective bulbs) in a fixed \n",
    "number of independent trials."
   ]
  },
  {
   "cell_type": "code",
   "execution_count": 6,
   "id": "3f14423c-d403-45fe-b354-4e539aa0556c",
   "metadata": {},
   "outputs": [
    {
     "data": {
      "image/png": "[encoded data removed]",
      "text/plain": [
       "<Figure size 640x480 with 1 Axes>"
      ]
     },
     "metadata": {},
     "output_type": "display_data"
    }
   ],
   "source": [
    "\"\"\"QTS.5\"\"\"\n",
    "import numpy as np\n",
    "import matplotlib.pyplot as plt\n",
    "\n",
    "# Parameters\n",
    "sample_size = 1000\n",
    "probability_of_success = 0.4\n",
    "\n",
    "# Generate random sample from binomial distribution\n",
    "random_sample = np.random.binomial(1, probability_of_success, sample_size)\n",
    "\n",
    "# Plot histogram\n",
    "plt.hist(random_sample)\n",
    "plt.xlabel('Success (1) / Failure (0)')\n",
    "plt.ylabel('Frequency')\n",
    "plt.title('Histogram of Random Sample from Binomial Distribution')\n",
    "plt.show()\n"
   ]
  },
  {
   "cell_type": "code",
   "execution_count": 7,
   "id": "dbaa1a9d-5700-49f1-a3f6-567c8981a022",
   "metadata": {},
   "outputs": [
    {
     "name": "stdout",
     "output_type": "stream",
     "text": [
      "cdf of a poisson distribution at a given mean 1 , at a given point 2 : 0.40600584970983794\n"
     ]
    }
   ],
   "source": [
    "from scipy import stats                   ###QTS.6\n",
    "\n",
    "def poiss_cdf(mean,x):\n",
    "    \n",
    "    ##calculating the cdf at a given point and mean\n",
    "    cdf= stats.poisson.cdf(mean,x)\n",
    "    return cdf\n",
    "\n",
    "##driver code\n",
    "mean=1\n",
    "x=2\n",
    "c_d_f= poiss_cdf(mean,x)\n",
    "print(f\"cdf of a poisson distribution at a given mean {mean} , at a given point {x} : {c_d_f}\")"
   ]
  },
  {
   "cell_type": "markdown",
   "id": "02643268-6b21-4103-ad01-2b27eee8fe10",
   "metadata": {},
   "source": [
    "###QTS.7\n",
    "\n",
    "Binomial distribution describes the distribution of binary data from a finite sample.\n",
    "Thus it gives the probability of getting r events out of n trials. Poisson distribution\n",
    "describes the distribution of binary data from an infinite sample. \n",
    "Thus it gives the probability of getting r events in a population."
   ]
  },
  {
   "cell_type": "code",
   "execution_count": 8,
   "id": "0e385390-8038-4c86-af71-6dfd13c3b913",
   "metadata": {},
   "outputs": [
    {
     "name": "stdout",
     "output_type": "stream",
     "text": [
      "sample mean of a above sample  is , 4.928\n",
      "variance of a above sample  is , 5.282816\n"
     ]
    }
   ],
   "source": [
    "\"\"\"QTS.8\"\"\"\n",
    "import numpy as np\n",
    "\n",
    "def sample(pop_mean,sample_size):\n",
    "     ##calulate sample mean and variance\n",
    "        \n",
    "        s= np.random.poisson(pop_mean,sample_size)\n",
    "        \n",
    "        sample_mean = np.mean(s)\n",
    "        print(f\"sample mean of a above sample  is , {sample_mean}\")\n",
    "    \n",
    "        sample_variance = np.var(s)\n",
    "        print(f\"variance of a above sample  is , {sample_variance}\")\n",
    "        \n",
    "        \n",
    "##driver code\n",
    "pop_mean=5\n",
    "sample_size=1000\n",
    "sam= sample(pop_mean,sample_size)"
   ]
  },
  {
   "cell_type": "markdown",
   "id": "799f4023-e5d5-46be-b28d-ef6eb1d10ae9",
   "metadata": {},
   "source": [
    "\"\"\"QTS.9\"\"\"\n",
    "Mean and variance are two important statistical properties that describe the central tendency\n",
    "and the spread or dispersion of a probability distribution, including the binomial and Poisson\n",
    "distributions.\n",
    "\n",
    "1. **Binomial Distribution:**\n",
    "\n",
    "   In a binomial distribution, which models the number of successes (usually denoted as \"k\")\n",
    "    in a fixed number of independent Bernoulli trials, the mean (μ) and variance (σ²) are related\n",
    "    as follows:\n",
    "\n",
    "   - **Mean (μ):** The mean of a binomial distribution is given by μ = n * p, where 'n' is the\n",
    "number of trials and 'p' is the probability of success on each trial.\n",
    "\n",
    "   - **Variance (σ²):** The variance of a binomial distribution is given by σ² = n * p * (1 - p),\n",
    "    where 'n' is the number of trials and 'p' is the probability of success on each trial.\n",
    "\n",
    "   In a binomial distribution, as 'p' gets closer to 0 or 1, the variance tends to decrease.\n",
    "When 'p' is close to 0.5, the variance is at its maximum.\n",
    "\n",
    "2. **Poisson Distribution:**\n",
    "\n",
    "   In a Poisson distribution, which models the number of events occurring in a fixed interval\n",
    "    of time or space, the mean (μ) and variance (σ²) are also related:\n",
    "\n",
    "   - **Mean (μ):** The mean of a Poisson distribution is given by μ = λ, where λ (lambda) is\n",
    "the average rate at which events occur in the given interval.\n",
    "\n",
    "   - **Variance (σ²):** The variance of a Poisson distribution is also given by σ² = λ, \n",
    "    which is equal to the mean (μ).\n",
    "\n",
    "   In a Poisson distribution, the mean and variance are equal. This property is characteristic\n",
    "of the Poisson distribution and makes it particularly useful in situations where events occur \n",
    "randomly and independently at a constant average rate.\n",
    "\n",
    "In summary, the relationship between mean and variance in the binomial distribution depends on\n",
    "the values of 'n' and 'p,' while in the Poisson distribution, the mean and variance are always\n",
    "equal and are both represented by λ."
   ]
  },
  {
   "cell_type": "markdown",
   "id": "12ab4909-4cc3-4fa4-bb9e-fa8814df15c7",
   "metadata": {},
   "source": [
    "\"\"\"QTS.10\"\"\"\n",
    "\n",
    "In a normal distribution, also known as a Gaussian distribution, the least frequent data\n",
    "appears in the tails of the distribution, farthest away from the mean.\n",
    "The normal distribution is symmetric, and its shape is often described as a bell curve."
   ]
  },
  {
   "cell_type": "code",
   "execution_count": null,
   "id": "aba3e461-756f-4b6c-a52a-cc01f90048c2",
   "metadata": {},
   "outputs": [],
   "source": []
  }
 ],
 "metadata": {
  "kernelspec": {
   "display_name": "Python 3 (ipykernel)",
   "language": "python",
   "name": "python3"
  },
  "language_info": {
   "codemirror_mode": {
    "name": "ipython",
    "version": 3
   },
   "file_extension": ".py",
   "mimetype": "text/x-python",
   "name": "python",
   "nbconvert_exporter": "python",
   "pygments_lexer": "ipython3",
   "version": "3.10.8"
  }
 },
 "nbformat": 4,
 "nbformat_minor": 5
}
